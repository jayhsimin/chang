{
 "cells": [
  {
   "cell_type": "code",
   "execution_count": 1,
   "id": "afb6dd47-0bca-4c7f-aee4-707be603eb1a",
   "metadata": {},
   "outputs": [],
   "source": [
    "import cv2\n",
    "import numpy as np\n",
    "import os"
   ]
  },
  {
   "cell_type": "code",
   "execution_count": 42,
   "id": "d189f509-ac50-4311-bda6-8f1b843505a9",
   "metadata": {},
   "outputs": [],
   "source": [
    "for i in range(1,5):\n",
    "    path=f'C:/Users/vghuser/Desktop/0313/xx{i}'\n",
    "    file_names = os.listdir(path)\n",
    "    for file_name in file_names:\n",
    "        newpath=os.path.join(path, file_name)#絕對路徑\n",
    "        basenamess = os.path.basename(newpath)#相對路徑:影像名.副檔名\n",
    "        bks = os.path.splitext(basenamess)[0]#影像名\n",
    "        img=cv2.imread(newpath)\n",
    "\n",
    "        img_temp = img.copy()\n",
    "        unique, counts = np.unique(img_temp.reshape(-1, 3), axis=0, return_counts=True)\n",
    "        img_temp[:,:,0], img_temp[:,:,1], img_temp[:,:,2] = [16.60023585, 13.96658805, 11.85154612]\n",
    "        # img_temp[:,:,0], img_temp[:,:,1], img_temp[:,:,2] = unique[np.argmax(counts)]\n",
    "        # 減掉背景\n",
    "        ooo=cv2.subtract(img,img_temp)\n",
    "        cv2.imwrite(f'C:/Users/vghuser/Desktop/0313/xxx{i}/{basenamess}',ooo)    \n",
    "\n",
    "        # img_temp1 = ooo.copy()\n",
    "        # img_temp1[:,:,0], img_temp1[:,:,1], img_temp1[:,:,2] =[37.47964606, 36.11710218, 34.90027789]\n",
    "        # ooo1=cv2.subtract(ooo,img_temp1)\n",
    "        # cv2.imwrite(f'C:/Users/vghuser/Desktop/0313/xx{i}/{basenamess}',ooo1)    "
   ]
  }
 ],
 "metadata": {
  "kernelspec": {
   "display_name": "aa",
   "language": "python",
   "name": "a"
  },
  "language_info": {
   "codemirror_mode": {
    "name": "ipython",
    "version": 3
   },
   "file_extension": ".py",
   "mimetype": "text/x-python",
   "name": "python",
   "nbconvert_exporter": "python",
   "pygments_lexer": "ipython3",
   "version": "3.7.16"
  }
 },
 "nbformat": 4,
 "nbformat_minor": 5
}
