{
 "cells": [
  {
   "cell_type": "code",
   "execution_count": 9,
   "id": "e82d5ef1-8a2b-4ef5-8150-16d6873fc7a4",
   "metadata": {},
   "outputs": [],
   "source": [
    "import os\n",
    "import shutil\n",
    "import pandas as pd\n",
    "\n",
    "# read the CSV file\n",
    "df = pd.read_csv(r'C:\\Users\\vghuser\\Desktop\\FUCK.csv')\n",
    "# df = pd.read_csv(r'C:\\Users\\vghuser\\Desktop\\csv\\02242.csv')\n",
    "# df = pd.read_csv(r'C:\\Users\\vghuser\\Desktop\\csv\\02243.csv')\n",
    "# df = pd.read_csv(r'C:\\Users\\vghuser\\Desktop\\csv\\02244.csv')\n",
    "\n",
    "\n",
    "# 原影像路徑\n",
    "src_folder = r'C:\\Users\\vghuser\\Desktop\\TT'\n",
    "\n",
    "# 新影像路徑\n",
    "dst_folder = r'C:\\Users\\vghuser\\Desktop\\59595'\n",
    "\n",
    "# loop through the CSV file\n",
    "for index, row in df.iterrows():\n",
    "    # get the file name and new name\n",
    "    file_name = row[2]\n",
    "    # print(file_name)\n",
    "    # find the file in the source folder\n",
    "    for root, dirs, files in os.walk(src_folder):\n",
    "        if file_name in files:\n",
    "            # copy the file to the destination folder\n",
    "            src_file = os.path.join(root, file_name)\n",
    "            #print(src_file)\n",
    "            dst_file = os.path.join(dst_folder, file_name)\n",
    "            #print(dst_file)\n",
    "            shutil.copy2(src_file, dst_folder)"
   ]
  }
 ],
 "metadata": {
  "kernelspec": {
   "display_name": "abcd",
   "language": "python",
   "name": "abcd"
  },
  "language_info": {
   "codemirror_mode": {
    "name": "ipython",
    "version": 3
   },
   "file_extension": ".py",
   "mimetype": "text/x-python",
   "name": "python",
   "nbconvert_exporter": "python",
   "pygments_lexer": "ipython3",
   "version": "3.10.4"
  }
 },
 "nbformat": 4,
 "nbformat_minor": 5
}
