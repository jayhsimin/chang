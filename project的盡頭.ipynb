{
 "cells": [
  {
   "cell_type": "code",
   "execution_count": 1,
   "id": "3d6018ce-6467-4fce-8e21-b6138a22448b",
   "metadata": {},
   "outputs": [],
   "source": [
    "import cv2\n",
    "import numpy as np\n",
    "import os"
   ]
  },
  {
   "cell_type": "markdown",
   "id": "26ace7a4-4484-43e1-abdc-5ef8cae46655",
   "metadata": {},
   "source": [
    "方法一：平均值"
   ]
  },
  {
   "cell_type": "code",
   "execution_count": 2,
   "id": "dc19b3ad-b434-4c25-a484-f2fab773618f",
   "metadata": {},
   "outputs": [],
   "source": [
    "a=r'C:\\Users\\vghuser\\Desktop\\aa\\14.bmp'\n",
    "b=r'C:\\Users\\vghuser\\Desktop\\aa\\15.bmp'\n",
    "\n",
    "img=cv2.imread(a)\n",
    "img_2=cv2.imread(b)\n",
    "img_2=cv2.resize(img_2,(462,462))\n"
   ]
  },
  {
   "cell_type": "code",
   "execution_count": 27,
   "id": "bacd91ab-0cbb-4a90-aa6b-21ec3c842a61",
   "metadata": {
    "tags": []
   },
   "outputs": [],
   "source": [
    "# https://cloud.tencent.com/developer/article/1748328\n",
    "# https://github.com/mrakelinggar/data-stuffs/tree/master/frequent_color\n",
    "\n",
    "img_temp = img.copy()\n",
    "img_temp[:,:,0], img_temp[:,:,1], img_temp[:,:,2] = np.average(img, axis=(0,1))\n",
    "img_temp_2 = img_2.copy()\n",
    "img_temp_2[:,:,0], img_temp_2[:,:,1], img_temp_2[:,:,2] = np.average(img_2, axis=(0,1))\n",
    "\n",
    "\n",
    "# print(np.array(img_temp))\n",
    "cv2.imshow('oxxostudio', img_temp)\n",
    "cv2.waitKey(0)\n",
    "cv2.destroyAllWindows()"
   ]
  },
  {
   "cell_type": "code",
   "execution_count": 27,
   "id": "d00a8395-fce3-4071-bb28-a9f0e84bbf8f",
   "metadata": {
    "tags": []
   },
   "outputs": [],
   "source": [
    "# 減掉背景\n",
    "mat1=np.array(img)\n",
    "mat2=np.array(img_temp)\n",
    "ooo=cv2.subtract(img,img_temp)\n",
    "cv2.imwrite(r'C:\\Users\\vghuser\\Desktop\\aa\\9999999.bmp',ooo)\n",
    "cv2.imshow('oxxostudio', ooo)\n",
    "cv2.waitKey(0)\n",
    "cv2.destroyAllWindows()\n",
    "# img,img_temp"
   ]
  },
  {
   "cell_type": "code",
   "execution_count": null,
   "id": "74508157-3d38-450c-bb3e-c427fc066312",
   "metadata": {},
   "outputs": [],
   "source": []
  },
  {
   "cell_type": "markdown",
   "id": "3fc84900-9e14-4210-9271-2644796ef3e1",
   "metadata": {},
   "source": [
    "方法二:最高像素頻率"
   ]
  },
  {
   "cell_type": "code",
   "execution_count": 58,
   "id": "616579bb-6823-4496-af46-ae7bd2e2aa88",
   "metadata": {},
   "outputs": [],
   "source": [
    "img_temp = img.copy()\n",
    "unique, counts = np.unique(img_temp.reshape(-1, 3), axis=0, return_counts=True)\n",
    "img_temp[:,:,0], img_temp[:,:,1], img_temp[:,:,2] = unique[np.argmax(counts)]\n",
    "\n",
    "img_temp_2 = img_2.copy()\n",
    "unique, counts = np.unique(img_temp_2.reshape(-1, 3), axis=0, return_counts=True)\n",
    "img_temp_2[:,:,0], img_temp_2[:,:,1], img_temp_2[:,:,2] = unique[np.argmax(counts)]\n",
    "\n",
    "# show_img_compar(img, img_temp)\n",
    "# show_img_compar(img_2, img_temp_2)"
   ]
  },
  {
   "cell_type": "code",
   "execution_count": null,
   "id": "04361522-ed00-435b-861a-cc07e34f0d17",
   "metadata": {},
   "outputs": [],
   "source": []
  },
  {
   "cell_type": "code",
   "execution_count": 7,
   "id": "2ade0b8c-2bd5-4b22-afd8-c10c311caa51",
   "metadata": {},
   "outputs": [],
   "source": []
  },
  {
   "cell_type": "code",
   "execution_count": 8,
   "id": "752f78de-6adf-4ef4-a3da-66123adbd317",
   "metadata": {},
   "outputs": [
    {
     "data": {
      "text/plain": [
       "array([[169.91910873, 163.7073942 , 160.53928742],\n",
       "       [147.00766319, 140.65975889, 136.65896453],\n",
       "       [195.69586603, 190.46996135, 190.06470313],\n",
       "       [182.01937388, 175.48226335, 173.02178012],\n",
       "       [158.91880458, 152.47480376, 148.60790377]])"
      ]
     },
     "execution_count": 8,
     "metadata": {},
     "output_type": "execute_result"
    }
   ],
   "source": [
    "from sklearn.cluster import KMeans\n",
    "clt=KMeans(n_clusters=5)\n",
    "clt.fit(img.reshape(-1,3))\n",
    "clt.labels_\n",
    "clt.cluster_centers_"
   ]
  },
  {
   "cell_type": "markdown",
   "id": "e1c6b0e8-bbe7-4492-9305-1352c9901864",
   "metadata": {},
   "source": [
    "方法三:K-MEANS"
   ]
  },
  {
   "cell_type": "code",
   "execution_count": 10,
   "id": "e420fb1b-2da4-4a8d-8dd3-e0bdf8e67bf8",
   "metadata": {},
   "outputs": [],
   "source": [
    "\n",
    "def palette(clusters):\n",
    "    width=300\n",
    "    palette = np.zeros((50, width, 3), np.uint8)\n",
    "    steps = width/clusters.cluster_centers_.shape[0]\n",
    "    for idx, centers in enumerate(clusters.cluster_centers_): \n",
    "        palette[:, int(idx*steps):(int((idx+1)*steps)), :] = centers\n",
    "    return palette\n",
    "\n",
    "\n",
    "clt_1 = clt.fit(img.reshape(-1, 3))\n",
    "cv2.imshow('oxxostudio', palette(clt_1))\n",
    "cv2.waitKey(0)\n",
    "cv2.destroyAllWindows()\n",
    "\n",
    "\n",
    "# show_img_compar(img, palette(clt_1))\n",
    "\n",
    "# clt_2 = clt.fit(img_2.reshape(-1, 3))\n",
    "# show_img_compar(img_2, palette(clt_2))"
   ]
  },
  {
   "cell_type": "code",
   "execution_count": null,
   "id": "84d74579-2797-4e91-95fb-642514db92a2",
   "metadata": {},
   "outputs": [],
   "source": []
  },
  {
   "cell_type": "markdown",
   "id": "147060ca-07d9-4891-8550-f7a146be039b",
   "metadata": {},
   "source": [
    "方法四:K均值+比例显示"
   ]
  },
  {
   "cell_type": "code",
   "execution_count": 56,
   "id": "da19ffd3-0467-4caa-bbf6-9b52f4995791",
   "metadata": {
    "tags": []
   },
   "outputs": [
    {
     "name": "stdout",
     "output_type": "stream",
     "text": [
      "1\n",
      "0\n",
      "2\n",
      "4\n",
      "3\n"
     ]
    }
   ],
   "source": [
    "from collections import Counter\n",
    "\n",
    "def palette_perc(k_cluster):\n",
    "    width = 300\n",
    "    palette = np.zeros((50, width, 3), np.uint8)\n",
    "\n",
    "    n_pixels = len(k_cluster.labels_)\n",
    "    counter = Counter(k_cluster.labels_) # count how many pixels per cluster\n",
    "    perc = {}\n",
    "    for i in counter:\n",
    "        perc[i] = np.round(counter[i]/n_pixels, 2)#np.round:四捨五入\n",
    "        # print(perc.items())\n",
    "        \n",
    "    perc = dict(sorted(perc.items()))\n",
    "\n",
    "    #for logging purposes\n",
    "    # print(perc)\n",
    "    # print(k_cluster.cluster_centers_)#RGB像素\n",
    "\n",
    "\n",
    "    step = 0\n",
    "\n",
    "    for idx, centers in enumerate(k_cluster.cluster_centers_): \n",
    "        palette[:, step:int(step + perc[idx]*width+1), :] = centers\n",
    "        step += int(perc[idx]*width+1)\n",
    "\n",
    "    return palette\n",
    "\n",
    "\n",
    "clt_1 = clt.fit(img.reshape(-1, 3))\n",
    "cv2.imshow('oxxostudio', palette_perc(clt_1))\n",
    "cv2.waitKey(0)\n",
    "cv2.destroyAllWindows()\n",
    "\n",
    "\n",
    "\n",
    "\n",
    "# clt_1 = clt.fit(img.reshape(-1, 3))\n",
    "# show_img_compar(img, palette_perc(clt_1))\n",
    "\n",
    "# clt_2 = clt.fit(img_2.reshape(-1, 3))\n",
    "# show_img_compar(img_2, palette_perc(clt_2))"
   ]
  },
  {
   "cell_type": "code",
   "execution_count": null,
   "id": "521f50fa-77e0-46e9-9492-f82e89487e72",
   "metadata": {},
   "outputs": [],
   "source": []
  },
  {
   "cell_type": "code",
   "execution_count": null,
   "id": "a28411e0-9dec-43bb-a95c-1df93dbc59c9",
   "metadata": {},
   "outputs": [],
   "source": [
    "# 減掉背景\n",
    "mat1=np.array(img)\n",
    "mat2=np.array(img_temp)\n",
    "ooo=cv2.subtract(img,img_temp)\n",
    "cv2.imwrite(r'C:\\Users\\vghuser\\Desktop\\aa\\9999999.bmp',ooo)\n",
    "cv2.imshow('oxxostudio', ooo)\n",
    "cv2.waitKey(0)\n",
    "cv2.destroyAllWindows()\n",
    "# img,img_temp"
   ]
  },
  {
   "cell_type": "code",
   "execution_count": null,
   "id": "7e7e4770-648c-4067-9e3f-8174a362971a",
   "metadata": {},
   "outputs": [],
   "source": []
  }
 ],
 "metadata": {
  "kernelspec": {
   "display_name": "aa",
   "language": "python",
   "name": "a"
  },
  "language_info": {
   "codemirror_mode": {
    "name": "ipython",
    "version": 3
   },
   "file_extension": ".py",
   "mimetype": "text/x-python",
   "name": "python",
   "nbconvert_exporter": "python",
   "pygments_lexer": "ipython3",
   "version": "3.7.16"
  }
 },
 "nbformat": 4,
 "nbformat_minor": 5
}
